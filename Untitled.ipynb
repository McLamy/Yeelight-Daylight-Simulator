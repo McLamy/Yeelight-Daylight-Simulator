{
 "cells": [
  {
   "cell_type": "code",
   "execution_count": 25,
   "id": "000120f3",
   "metadata": {},
   "outputs": [
    {
     "name": "stdout",
     "output_type": "stream",
     "text": [
      "447\n",
      "1086\n",
      "940\n",
      "peak:  766.5\n",
      "2708.036782434587\n",
      "(255, 205, 50)\n"
     ]
    },
    {
     "data": {
      "text/plain": [
       "'ok'"
      ]
     },
     "execution_count": 25,
     "metadata": {},
     "output_type": "execute_result"
    }
   ],
   "source": [
    "from yeelight import Bulb\n",
    "import datetime\n",
    "import math\n",
    "import pytz\n",
    "from suntime import Sun\n",
    "\n",
    "def get_current_cct():\n",
    "    # Düsseldorf-Koordinaten\n",
    "    lat = 51.2277\n",
    "    lng = 6.7735\n",
    "    \n",
    "    # Aktuelles Datum und Uhrzeit\n",
    "    now = datetime.datetime.now(pytz.timezone('Europe/Berlin'))\n",
    "    #now = now + datetime.timedelta(hours=(-2.25))\n",
    "\n",
    "    # Sonnenaufgang/-untergang-Zeiten berechnen\n",
    "    sun = Sun(lat, lng)\n",
    "    sunrise = sun.get_sunrise_time().replace(tzinfo=pytz.utc).astimezone(pytz.timezone('Europe/Berlin'))\n",
    "    sunset = sun.get_sunset_time().replace(tzinfo=pytz.utc).astimezone(pytz.timezone('Europe/Berlin'))\n",
    "\n",
    "    sunrise_minutes = sunrise.hour * 60 + sunrise.minute\n",
    "    sunset_minutes = sunset.hour * 60 + sunset.minute\n",
    "    \n",
    "    print(sunrise_minutes)\n",
    "    print(sunset_minutes)\n",
    "\n",
    "    midnight = now.replace(hour=0, minute=0, second=0, microsecond=0)\n",
    "    time_of_day = round((now - midnight).total_seconds() / 3600 * 60)\n",
    "    \n",
    "    print(time_of_day)\n",
    "\n",
    "    # Berechne CCT basierend auf einer Bell-Kurve\n",
    "    if sunrise_minutes <= time_of_day < sunset_minutes:\n",
    "        \n",
    "        peak_time = (sunrise_minutes + sunset_minutes) / 2\n",
    "        print(\"peak: \",peak_time)\n",
    "        std_dev = (peak_time - sunrise_minutes) / 3\n",
    "        cct = 1700 + 3800 * math.exp(-0.5 * ((time_of_day - peak_time) / std_dev) ** 2)\n",
    "    elif time_of_day < sunrise_minutes or time_of_day >= sunset_minutes:\n",
    "        cct = 3200\n",
    "    else:\n",
    "        cct = 5500\n",
    "        \n",
    "    print(cct)\n",
    "    return round(cct)\n",
    "\n",
    "def kelvin_to_rgb(temperature):\n",
    "    # Calculate the CIE chromaticity coordinates\n",
    "    if temperature <= 4000:\n",
    "        x = -0.2661239 * ((10**9) / (temperature**3)) - 0.2343580 * ((10**6) / (temperature**2)) + 0.8776956 * (10**3) / temperature + 0.179910\n",
    "    else:\n",
    "        x = -3.0258469 * ((10**9) / (temperature**3)) + 2.1070379 * ((10**6) / (temperature**2)) + 0.2226347 * (10**3) / temperature + 0.240390\n",
    "    y = -1.1063814 * x**3 - 1.34811020 * x**2 + 2.18555832 * x - 0.20219683\n",
    "    \n",
    "    # Calculate the XYZ tristimulus values\n",
    "    z = 1 - x - y\n",
    "    Y = 1\n",
    "    X = (Y / y) * x\n",
    "    Z = (Y / y) * z\n",
    "    \n",
    "    # Calculate the RGB values\n",
    "    R = 3.2406 * X - 1.5372 * Y - 0.4986 * Z\n",
    "    G = -0.9689 * X + 1.8758 * Y + 0.0415 * Z\n",
    "    B = 0.0557 * X - 0.2040 * Y + 1.0570 * Z\n",
    "    \n",
    "    # Convert the RGB values to the range [0, 255]\n",
    "    R = max(0, min(255, int(R * 255)))\n",
    "    G = max(0, min(255, int(G * 255)))\n",
    "    B = max(0, min(255, int(B * 255)))\n",
    "    \n",
    "    return (R, G, B)\n",
    "\n",
    "# Ausgabe\n",
    "rgb = kelvin_to_rgb(get_current_cct())\n",
    "print(rgb)\n",
    "\n",
    "# Connect to the Yeelight bulb\n",
    "bulb = Bulb(\"192.168.178.42\")\n",
    "\n",
    "# Turn the bulb on\n",
    "bulb.turn_on()\n",
    "\n",
    "# Set the brightness to 50%\n",
    "bulb.set_brightness(100)\n",
    "\n",
    "# Set the color of the Yeelight bulb using the RGB value\n",
    "bulb.set_rgb(rgb[0], rgb[1], rgb[2])\n"
   ]
  },
  {
   "cell_type": "code",
   "execution_count": 2,
   "id": "e0081421",
   "metadata": {
    "scrolled": true
   },
   "outputs": [
    {
     "ename": "NameError",
     "evalue": "name 'now' is not defined",
     "output_type": "error",
     "traceback": [
      "\u001b[0;31m---------------------------------------------------------------------------\u001b[0m",
      "\u001b[0;31mNameError\u001b[0m                                 Traceback (most recent call last)",
      "\u001b[0;32m/var/folders/0t/mjg5_8cn5zj16hq0fzzjjq000000gn/T/ipykernel_33093/1591941768.py\u001b[0m in \u001b[0;36m<module>\u001b[0;34m\u001b[0m\n\u001b[0;32m----> 1\u001b[0;31m \u001b[0mnow\u001b[0m\u001b[0;34m\u001b[0m\u001b[0;34m\u001b[0m\u001b[0m\n\u001b[0m",
      "\u001b[0;31mNameError\u001b[0m: name 'now' is not defined"
     ]
    }
   ],
   "source": []
  },
  {
   "cell_type": "code",
   "execution_count": null,
   "id": "87db29da",
   "metadata": {},
   "outputs": [],
   "source": []
  }
 ],
 "metadata": {
  "kernelspec": {
   "display_name": "Python 3 (ipykernel)",
   "language": "python",
   "name": "python3"
  },
  "language_info": {
   "codemirror_mode": {
    "name": "ipython",
    "version": 3
   },
   "file_extension": ".py",
   "mimetype": "text/x-python",
   "name": "python",
   "nbconvert_exporter": "python",
   "pygments_lexer": "ipython3",
   "version": "3.9.2"
  }
 },
 "nbformat": 4,
 "nbformat_minor": 5
}
